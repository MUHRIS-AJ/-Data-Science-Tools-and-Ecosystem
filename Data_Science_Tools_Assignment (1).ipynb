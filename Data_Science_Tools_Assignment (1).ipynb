{
 "cells": [
  {
   "cell_type": "markdown",
   "id": "27b20c84",
   "metadata": {},
   "source": [
    "# Data Science Tools and Ecosystem"
   ]
  },
  {
   "cell_type": "markdown",
   "id": "0e708c8b",
   "metadata": {},
   "source": [
    "In this notebook, I will summarize some of the key tools, libraries, and languages used by data scientists. This is the final assignment for the Data Science Tools course."
   ]
  },
  {
   "cell_type": "markdown",
   "id": "1cf9e4b5",
   "metadata": {},
   "source": [
    "## Some of the popular languages used by Data Scientists include:\n",
    "\n",
    "1. Python  \n",
    "2. R  \n",
    "3. SQL  \n",
    "4. Julia  \n",
    "5. Scala  "
   ]
  },
  {
   "cell_type": "markdown",
   "id": "c0b52bf9",
   "metadata": {},
   "source": [
    "## Commonly used libraries by Data Scientists:\n",
    "\n",
    "1. Pandas  \n",
    "2. NumPy  \n",
    "3. Matplotlib  \n",
    "4. Scikit-learn  \n",
    "5. TensorFlow  \n",
    "6. ggplot2  "
   ]
  },
  {
   "cell_type": "markdown",
   "id": "a032ecc0",
   "metadata": {},
   "source": [
    "## Examples of Data Science Tools\n",
    "\n",
    "| Tool            | Type               | Usage                      |\n",
    "|-----------------|--------------------|----------------------------|\n",
    "| RStudio         | IDE                | R language development     |\n",
    "| Apache Spark    | Big Data Platform  | Large-scale data processing|\n",
    "| TensorFlow      | ML Library         | Deep learning models       |"
   ]
  },
  {
   "cell_type": "markdown",
   "id": "fa1edee3",
   "metadata": {},
   "source": [
    "### Below are examples of simple arithmetic operations using Python:"
   ]
  },
  {
   "cell_type": "code",
   "execution_count": null,
   "id": "1d97d11d",
   "metadata": {},
   "outputs": [],
   "source": [
    "# This is a simple arithmetic expression to multiply and then add integers\n",
    "(5 * 4) + 3"
   ]
  },
  {
   "cell_type": "code",
   "execution_count": null,
   "id": "4bd18ef2",
   "metadata": {},
   "outputs": [],
   "source": [
    "# This will convert 200 minutes to hours\n",
    "minutes = 200\n",
    "hours = minutes / 60\n",
    "hours"
   ]
  },
  {
   "cell_type": "markdown",
   "id": "4df259a6",
   "metadata": {},
   "source": [
    "## Objectives of this notebook:\n",
    "- List data science languages  \n",
    "- List data science libraries  \n",
    "- Show tools used in data science  \n",
    "- Practice arithmetic operations  \n",
    "- Convert time from minutes to hours"
   ]
  },
  {
   "cell_type": "markdown",
   "id": "781dea38",
   "metadata": {},
   "source": [
    "**Author:** MUHRIS_A.J"
   ]
  }
 ],
 "metadata": {},
 "nbformat": 4,
 "nbformat_minor": 5
}
