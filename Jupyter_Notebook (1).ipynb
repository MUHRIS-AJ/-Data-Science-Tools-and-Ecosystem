{
 "cells": [
  {
   "cell_type": "markdown",
   "metadata": {},
   "source": [
    "<center>\n",
    "    <img src=\"https://cf-courses-data.s3.us.cloud-object-storage.appdomain.cloud/IBMDeveloperSkillsNetwork-DS0105EN-SkillsNetwork/labs/Module2/images/SN_web_lightmode.png\" width=\"300\" alt=\"cognitiveclass.ai logo\">\n",
    "</center>\n"
   ]
  },
  {
   "cell_type": "markdown",
   "metadata": {},
   "source": [
    "#### Add your code below following the instructions given in the course\n"
   ]
  },
  {
   "cell_type": "code",
   "execution_count": 44,
   "metadata": {},
   "outputs": [],
   "source": [
    "import nbformat as nbf\n",
    "\n",
    "# Create a new notebook\n",
    "nb = nbf.v4.new_notebook()\n",
    "# Define all cells in a list\n",
    "cells = [\n",
    "    # Exercise 2 - Title (Markdown)\n",
    "    nbf.v4.new_markdown_cell(\n",
    "        \"# Data Science Tools and Ecosystem\\n\"\n",
    "        \"This notebook summarizes some of the key tools, libraries, and languages used by data scientists.\\n\\n\"\n",
    "        \"This is the final assignment for the Data Science Tools course.\"\n",
    "    ),\n",
    "]\n",
    "\n",
    "# Assign the cells to the notebook\n",
    "nb['cells'] = cells\n",
    "\n",
    "# Save the notebook\n",
    "with open(\"Data_Science_Tools_Final_Assignment.ipynb\", \"w\") as f:\n",
    "    nbf.write(nb, f)"
   ]
  },
  {
   "cell_type": "code",
   "execution_count": 49,
   "metadata": {},
   "outputs": [],
   "source": [
    "nb = nbf.v4.new_notebook()\n",
    "intro_text = \"\"\"\\\n",
    "## Introduction\n",
    "Data Science is an interdisciplinary field that combines programming, statistics, mathematics, and domain expertise to extract meaningful insights from data. \n",
    "\n",
    "In this notebook, we will explore:\n",
    "- The most common programming languages used by data scientists.\n",
    "- Widely adopted libraries that simplify data analysis and machine learning.\n",
    "- Popular tools and platforms in the data science ecosystem.\n",
    "- Simple arithmetic expressions to demonstrate coding in Python.\n",
    "\n",
    "This notebook serves as a summary of the Data Science tools covered in the course.\n",
    "\"\"\"\n",
    "\n",
    "# Create markdown cell\n",
    "nb['cells'].append(nbf.v4.new_markdown_cell(intro_text))"
   ]
  },
  {
   "cell_type": "code",
   "execution_count": 50,
   "metadata": {},
   "outputs": [],
   "source": [
    "# Exercise 4 - Data Science Languages\n",
    "languages_text = \"\"\"\\\n",
    "## Some of the popular languages used by Data Scientists include:\n",
    "1. Python\n",
    "2. R\n",
    "3. SQL\n",
    "4. Julia\n",
    "5. Scala\n",
    "\"\"\"\n",
    "nb['cells'].append(nbf.v4.new_markdown_cell(languages_text))"
   ]
  },
  {
   "cell_type": "code",
   "execution_count": 51,
   "metadata": {
    "scrolled": true
   },
   "outputs": [
    {
     "data": {
      "text/plain": [
       "({'id': '09189839',\n",
       "  'cell_type': 'markdown',\n",
       "  'source': '## Examples of Data Science Tools\\n\\n| Tool            | Type               | Usage                      |\\n|-----------------|--------------------|----------------------------|\\n| RStudio         | IDE                | R language development     |\\n| Apache Spark    | Big Data Platform  | Large-scale data processing|\\n| TensorFlow      | ML Library         | Deep learning models       |',\n",
       "  'metadata': {}},)"
      ]
     },
     "execution_count": 51,
     "metadata": {},
     "output_type": "execute_result"
    }
   ],
   "source": [
    "\n",
    "    # Exercise 5 - List of Data Science Libraries (Markdown)\n",
    "    nbf.v4.new_markdown_cell(\n",
    "        \"## Commonly used libraries by Data Scientists:\\n\\n\"\n",
    "        \"1. Pandas  \\n\"\n",
    "        \"2. NumPy  \\n\"\n",
    "        \"3. Matplotlib  \\n\"\n",
    "        \"4. Scikit-learn  \\n\"\n",
    "        \"5. TensorFlow  \\n\"\n",
    "        \"6. ggplot2  \"\n",
    "    ),\n",
    "\n",
    " # Exercise 6 - Table of Data Science Tools (Markdown)\n",
    "    nbf.v4.new_markdown_cell(\n",
    "        \"## Examples of Data Science Tools\\n\\n\"\n",
    "        \"| Tool            | Type               | Usage                      |\\n\"\n",
    "        \"|-----------------|--------------------|----------------------------|\\n\"\n",
    "        \"| RStudio         | IDE                | R language development     |\\n\"\n",
    "        \"| Apache Spark    | Big Data Platform  | Large-scale data processing|\\n\"\n",
    "        \"| TensorFlow      | ML Library         | Deep learning models       |\"\n",
    "    ),\n"
   ]
  },
  {
   "cell_type": "code",
   "execution_count": 53,
   "metadata": {},
   "outputs": [],
   "source": [
    "# Exercise 7 - Intro to arithmetic expressions (Markdown)\n",
    "nbf.v4.new_markdown_cell(\"### Below are examples of simple arithmetic operations using Python:\"),\n",
    "cell_text = \"\"\"\\\n",
    "### Examples of Arithmetic Expressions\n",
    "Below are examples of simple arithmetic operations using Python:\n",
    "\n",
    "- Addition (+)\n",
    "- Subtraction (-)\n",
    "- Multiplication (*)\n",
    "- Division (/)\n",
    "- Modulus (%)\n",
    "- Exponentiation (**)\n",
    "\"\"\"\n",
    "\n",
    "nb['cells'].append(nbf.v4.new_markdown_cell(cell_text))"
   ]
  },
  {
   "cell_type": "code",
   "execution_count": 54,
   "metadata": {},
   "outputs": [],
   "source": [
    "# Exercise 8 - Multiply and Add Numbers (Code Cell)\n",
    "nbf.v4.new_code_cell(\"# This is a simple arithmetic expression to multiply and then add integers\\n(5 * 4) + 3\")\n",
    "# Code cell: Multiply and Add Numbers\n",
    "code_text = \"\"\"\\\n",
    "# This is a simple arithmetic expression to multiply and then add integers\n",
    "a = 5\n",
    "b = 4\n",
    "c = 3\n",
    "\n",
    "result = (a * b) + c\n",
    "print(\"The result of (5 * 4) + 3 is:\", result)\n",
    "\"\"\"\n",
    "\n",
    "nb['cells'].append(nbf.v4.new_code_cell(code_text))\n"
   ]
  },
  {
   "cell_type": "code",
   "execution_count": 55,
   "metadata": {},
   "outputs": [],
   "source": [
    "# Exercise 9 - Convert Minutes to Hours (Code Cell)\n",
    "nbf.v4.new_code_cell(\n",
    "    \"# This will convert 200 minutes to hours\\n\"\n",
    "    \"minutes = 200\\n\"\n",
    "    \"hours = minutes / 60\\n\"\n",
    "    \"hours\"\n",
    ")\n",
    "# Code cell: Convert Minutes to Hours\n",
    "code_text = \"\"\"\\\n",
    "# This code converts minutes into hours\n",
    "minutes = 200\n",
    "\n",
    "# 1 hour = 60 minutes\n",
    "hours = minutes / 60\n",
    "\n",
    "print(minutes, \"minutes is equal to\", hours, \"hours.\")\n",
    "\"\"\"\n",
    "\n",
    "nb['cells'].append(nbf.v4.new_code_cell(code_text))"
   ]
  },
  {
   "cell_type": "code",
   "execution_count": 56,
   "metadata": {},
   "outputs": [
    {
     "data": {
      "text/plain": [
       "{'id': '4043b395',\n",
       " 'cell_type': 'markdown',\n",
       " 'source': '## Objectives of this notebook:\\n- List data science languages  \\n- List data science libraries  \\n- Show tools used in data science  \\n- Practice arithmetic operations  \\n- Convert time from minutes to hours',\n",
       " 'metadata': {}}"
      ]
     },
     "execution_count": 56,
     "metadata": {},
     "output_type": "execute_result"
    }
   ],
   "source": [
    "# Exercise 10 - Objectives (Markdown)\n",
    "nbf.v4.new_markdown_cell(\n",
    "    \"## Objectives of this notebook:\\n\"\n",
    "    \"- List data science languages  \\n\"\n",
    "    \"- List data science libraries  \\n\"\n",
    "    \"- Show tools used in data science  \\n\"\n",
    "    \"- Practice arithmetic operations  \\n\"\n",
    "    \"- Convert time from minutes to hours\"\n",
    ")\n"
   ]
  },
  {
   "cell_type": "code",
   "execution_count": 57,
   "metadata": {},
   "outputs": [],
   "source": [
    "# Exercise 11 - Author's Name (Markdown)\n",
    "nbf.v4.new_markdown_cell(\n",
    "    \"**Author:** MUHRIS_A.J\"\n",
    ")\n",
    "# Markdown cell: Author info\n",
    "author_text = \"\"\"\\\n",
    "## Author\n",
    "**Name:** MUHRIS_A.J  \n",
    "**Course:** Data Science Tools and Ecosystem  \n",
    "**Date:** 2025-09-08\n",
    "\"\"\"\n",
    "\n",
    "nb['cells'].append(nbf.v4.new_markdown_cell(author_text))\n"
   ]
  },
  {
   "cell_type": "code",
   "execution_count": 58,
   "metadata": {},
   "outputs": [
    {
     "name": "stdout",
     "output_type": "stream",
     "text": [
      "Notebook 'Data_Science_Tools_Assignment.ipynb' created successfully!\n"
     ]
    }
   ],
   "source": [
    "# Add cells to notebook\n",
    "nb['cells'] = cells\n",
    "\n",
    "# Save notebook to a file\n",
    "filename = \"Data_Science_Tools_Assignment.ipynb\"\n",
    "with open(filename, \"w\", encoding=\"utf-8\") as f:\n",
    "    nbf.write(nb, f)\n",
    "\n",
    "print(f\"Notebook '{filename}' created successfully!\")\n"
   ]
  }
 ],
 "metadata": {
  "kernelspec": {
   "display_name": "Python 3 (ipykernel)",
   "language": "python",
   "name": "python3"
  },
  "language_info": {
   "codemirror_mode": {
    "name": "ipython",
    "version": 3
   },
   "file_extension": ".py",
   "mimetype": "text/x-python",
   "name": "python",
   "nbconvert_exporter": "python",
   "pygments_lexer": "ipython3",
   "version": "3.12.8"
  }
 },
 "nbformat": 4,
 "nbformat_minor": 4
}
